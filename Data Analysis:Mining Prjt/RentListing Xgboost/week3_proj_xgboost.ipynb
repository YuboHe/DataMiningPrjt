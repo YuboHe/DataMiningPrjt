{
 "cells": [
  {
   "cell_type": "markdown",
   "metadata": {},
   "source": [
    "# Week3 Assignment"
   ]
  },
  {
   "cell_type": "code",
   "execution_count": 1,
   "metadata": {},
   "outputs": [
    {
     "name": "stderr",
     "output_type": "stream",
     "text": [
      "/Users/Yubo/anaconda3/envs/py27/lib/python2.7/site-packages/sklearn/cross_validation.py:44: DeprecationWarning: This module was deprecated in version 0.18 in favor of the model_selection module into which all the refactored classes and functions are moved. Also note that the interface of the new CV iterators are different from that of this module. This module will be removed in 0.20.\n",
      "  \"This module will be removed in 0.20.\", DeprecationWarning)\n"
     ]
    }
   ],
   "source": [
    "import pandas as pd\n",
    "import numpy as np\n",
    "import xgboost as xgb\n",
    "from xgboost.sklearn import XGBClassifier\n",
    "from sklearn import cross_validation, metrics\n",
    "from sklearn.model_selection import StratifiedKFold\n",
    "from sklearn.model_selection import GridSearchCV\n",
    "\n",
    "import matplotlib.pylab as plt\n",
    "%matplotlib inline\n",
    "from matplotlib.pylab import rcParams\n",
    "rcParams['figure.figsize'] = 12, 4"
   ]
  },
  {
   "cell_type": "markdown",
   "metadata": {},
   "source": [
    "特征工程就不做了，看了老师的特征工程，直接调用"
   ]
  },
  {
   "cell_type": "code",
   "execution_count": 2,
   "metadata": {
    "collapsed": true
   },
   "outputs": [],
   "source": [
    "dpath = \"/Users/Yubo/Desktop/AI/CSDN_AI_Eng/csdn_week3/week3_homework/code/data/\"\n",
    "train = pd.read_csv(dpath + 'RentListingInquries_FE_train.csv')\n",
    "test = pd.read_csv(dpath + 'RentListingInquries_FE_test.csv')"
   ]
  },
  {
   "cell_type": "code",
   "execution_count": 3,
   "metadata": {},
   "outputs": [
    {
     "data": {
      "text/plain": [
       "(49352, 228)"
      ]
     },
     "execution_count": 3,
     "metadata": {},
     "output_type": "execute_result"
    }
   ],
   "source": [
    "train.head(5)\n",
    "train.shape"
   ]
  },
  {
   "cell_type": "code",
   "execution_count": 4,
   "metadata": {
    "collapsed": true
   },
   "outputs": [],
   "source": [
    "#数据太多了，我的小本本跑不起来，弄少点儿调调参\n",
    "X_train = train.iloc[0:10000,1:227]  # all rows, all the features and no labels\n",
    "y_train = train.iloc[0:10000, -1]  # all rows, label only"
   ]
  },
  {
   "cell_type": "markdown",
   "metadata": {},
   "source": [
    "## 1. 直接调用xgboost内嵌的cv寻找最佳的参数n_estimators\n"
   ]
  },
  {
   "cell_type": "code",
   "execution_count": 5,
   "metadata": {
    "collapsed": true
   },
   "outputs": [],
   "source": [
    "kfold = StratifiedKFold(n_splits=5, shuffle=True, random_state=3)\n",
    "kf=kfold.split(X_train,y_train)\n"
   ]
  },
  {
   "cell_type": "code",
   "execution_count": 38,
   "metadata": {
    "collapsed": true
   },
   "outputs": [],
   "source": [
    "def modelfit(alg, X_train, y_train, cv_folds= None, early_stopping_rounds=10):\n",
    "    xgb_param = alg.get_xgb_params()\n",
    "    xgb_param['num_class'] = 3\n",
    "    \n",
    "    #直接调用xgboost，而非sklarn的wrapper类\n",
    "    xgtrain = xgb.DMatrix(X_train, label = y_train)\n",
    "        \n",
    "    cvresult = xgb.cv(xgb_param, xgtrain, num_boost_round=alg.get_params()['n_estimators'], folds =cv_folds,\n",
    "             metrics='mlogloss', early_stopping_rounds=early_stopping_rounds)\n",
    "  \n",
    "    cvresult.to_csv('1_nestimators.csv', index_label = 'n_estimators')\n",
    "    \n",
    "    #最佳参数n_estimators\n",
    "    n_estimators = cvresult.shape[0]\n",
    "    \n",
    "    # 采用交叉验证得到的最佳参数n_estimators，训练模型\n",
    "    alg.set_params(n_estimators = n_estimators)\n",
    "    alg.fit(X_train, y_train, eval_metric='mlogloss')\n",
    "        \n",
    "    #Predict training set:\n",
    "    train_predprob = alg.predict_proba(X_train)\n",
    "    logloss = metrics.log_loss(y_train, train_predprob)\n",
    "\n",
    "   #Print model report:\n",
    "    print (\"logloss of train :\" )\n",
    "    print logloss"
   ]
  },
  {
   "cell_type": "code",
   "execution_count": 7,
   "metadata": {},
   "outputs": [
    {
     "name": "stdout",
     "output_type": "stream",
     "text": [
      "logloss of train :\n",
      "0.47327580855\n"
     ]
    }
   ],
   "source": [
    "#params = {\"objective\": \"multi:softprob\", \"eval_metric\":\"mlogloss\", \"num_class\": 3}\n",
    "xgb1 = XGBClassifier(\n",
    "        learning_rate =0.1,\n",
    "        n_estimators=1000,  #数值大没关系，cv会自动返回合适的n_estimators\n",
    "        max_depth=5,\n",
    "        min_child_weight=1,\n",
    "        gamma=0,\n",
    "        subsample=0.3,\n",
    "        colsample_bytree=0.8,\n",
    "        colsample_bylevel=0.7,\n",
    "        objective= 'multi:softprob',\n",
    "        seed=3)\n",
    "\n",
    "modelfit(xgb1, X_train, y_train, cv_folds = kf)"
   ]
  },
  {
   "cell_type": "code",
   "execution_count": 8,
   "metadata": {},
   "outputs": [
    {
     "data": {
      "image/png": "[encoded data removed]",
      "text/plain": [
       "<matplotlib.figure.Figure at 0x1131b3150>"
      ]
     },
     "metadata": {},
     "output_type": "display_data"
    }
   ],
   "source": [
    "cvresult = pd.DataFrame.from_csv('1_nestimators.csv')\n",
    "        \n",
    "# plot\n",
    "test_means = cvresult['test-mlogloss-mean']\n",
    "test_stds = cvresult['test-mlogloss-std'] \n",
    "        \n",
    "train_means = cvresult['train-mlogloss-mean']\n",
    "train_stds = cvresult['train-mlogloss-std'] \n",
    "\n",
    "x_axis = range(0, cvresult.shape[0])\n",
    "        \n",
    "plt.errorbar(x_axis, test_means, yerr=test_stds ,label='Test')\n",
    "plt.errorbar(x_axis, train_means, yerr=train_stds ,label='Train')\n",
    "plt.title(\"XGBoost n_estimators vs Log Loss\")\n",
    "plt.xlabel( 'n_estimators' )\n",
    "plt.ylabel( 'Log Loss' )\n",
    "plt.savefig( 'n_estimators4_1.png' )\n",
    "\n",
    "plt.show()"
   ]
  },
  {
   "cell_type": "code",
   "execution_count": 9,
   "metadata": {},
   "outputs": [
    {
     "data": {
      "image/png": "[encoded data removed]",
      "text/plain": [
       "<matplotlib.figure.Figure at 0x1084914d0>"
      ]
     },
     "metadata": {},
     "output_type": "display_data"
    }
   ],
   "source": [
    "cvresult = pd.DataFrame.from_csv('1_nestimators.csv')\n",
    "\n",
    "cvresult = cvresult.iloc[100:]\n",
    "# plot\n",
    "test_means = cvresult['test-mlogloss-mean']\n",
    "test_stds = cvresult['test-mlogloss-std'] \n",
    "        \n",
    "train_means = cvresult['train-mlogloss-mean']\n",
    "train_stds = cvresult['train-mlogloss-std'] \n",
    "\n",
    "x_axis = range(100,cvresult.shape[0]+100)\n",
    "        \n",
    "fig = plt.figure(figsize=(10, 10), dpi=100)\n",
    "plt.errorbar(x_axis, test_means, yerr=test_stds ,label='Test')\n",
    "plt.errorbar(x_axis, train_means, yerr=train_stds ,label='Train')\n",
    "plt.title(\"XGBoost n_estimators vs Log Loss\")\n",
    "plt.xlabel( 'n_estimators' )\n",
    "plt.ylabel( 'Log Loss' )\n",
    "plt.savefig( 'n_estimators_detail.png' )\n",
    "\n",
    "plt.show()"
   ]
  },
  {
   "cell_type": "markdown",
   "metadata": {},
   "source": [
    "# 第二步：调整树的参数：max_depth & min_child_weight"
   ]
  },
  {
   "cell_type": "markdown",
   "metadata": {},
   "source": [
    "第一轮参数调整得到的n_estimators最优值（106），其余参数继续默认值"
   ]
  },
  {
   "cell_type": "code",
   "execution_count": 10,
   "metadata": {},
   "outputs": [
    {
     "data": {
      "text/plain": [
       "{'max_depth': [3, 5, 7, 9], 'min_child_weight': [1, 3, 5]}"
      ]
     },
     "execution_count": 10,
     "metadata": {},
     "output_type": "execute_result"
    }
   ],
   "source": [
    "#max_depth 建议3-10， min_child_weight=1／sqrt(ratio_rare_event) =5.5\n",
    "max_depth = range(3,10,2)\n",
    "min_child_weight = range(1,6,2)\n",
    "param_test2_1 = dict(max_depth=max_depth, min_child_weight=min_child_weight)\n",
    "param_test2_1"
   ]
  },
  {
   "cell_type": "code",
   "execution_count": 11,
   "metadata": {},
   "outputs": [
    {
     "name": "stderr",
     "output_type": "stream",
     "text": [
      "/Users/Yubo/anaconda3/envs/py27/lib/python2.7/site-packages/sklearn/model_selection/_search.py:667: DeprecationWarning: The grid_scores_ attribute was deprecated in version 0.18 in favor of the more elaborate cv_results_ attribute. The grid_scores_ attribute will not be available from 0.20\n",
      "  DeprecationWarning)\n"
     ]
    },
    {
     "data": {
      "text/plain": [
       "([mean: -0.63001, std: 0.00579, params: {'max_depth': 3, 'min_child_weight': 1},\n",
       "  mean: -0.63107, std: 0.00520, params: {'max_depth': 3, 'min_child_weight': 3},\n",
       "  mean: -0.63102, std: 0.00578, params: {'max_depth': 3, 'min_child_weight': 5},\n",
       "  mean: -0.62420, std: 0.00966, params: {'max_depth': 5, 'min_child_weight': 1},\n",
       "  mean: -0.62543, std: 0.00687, params: {'max_depth': 5, 'min_child_weight': 3},\n",
       "  mean: -0.62650, std: 0.00895, params: {'max_depth': 5, 'min_child_weight': 5},\n",
       "  mean: -0.63877, std: 0.00927, params: {'max_depth': 7, 'min_child_weight': 1},\n",
       "  mean: -0.63498, std: 0.01105, params: {'max_depth': 7, 'min_child_weight': 3},\n",
       "  mean: -0.63072, std: 0.00847, params: {'max_depth': 7, 'min_child_weight': 5},\n",
       "  mean: -0.64854, std: 0.01043, params: {'max_depth': 9, 'min_child_weight': 1},\n",
       "  mean: -0.64226, std: 0.01034, params: {'max_depth': 9, 'min_child_weight': 3},\n",
       "  mean: -0.63606, std: 0.01174, params: {'max_depth': 9, 'min_child_weight': 5}],\n",
       " {'max_depth': 5, 'min_child_weight': 1},\n",
       " -0.62419795583426019)"
      ]
     },
     "execution_count": 11,
     "metadata": {},
     "output_type": "execute_result"
    }
   ],
   "source": [
    "xgb2_1 = XGBClassifier(\n",
    "        learning_rate =0.1,\n",
    "        n_estimators=106,  #第一轮参数调整得到的n_estimators最优值\n",
    "        max_depth=5,\n",
    "        min_child_weight=1,\n",
    "        gamma=0,\n",
    "        subsample=0.3,\n",
    "        colsample_bytree=0.8,\n",
    "        colsample_bylevel = 0.7,\n",
    "        objective= 'multi:softprob',\n",
    "        seed=3)\n",
    "\n",
    "\n",
    "gsearch2_1 = GridSearchCV(xgb2_1, param_grid = param_test2_1, scoring='neg_log_loss',n_jobs=-1, cv=kfold)\n",
    "gsearch2_1.fit(X_train , y_train)\n",
    "\n",
    "gsearch2_1.grid_scores_, gsearch2_1.best_params_,     gsearch2_1.best_score_"
   ]
  },
  {
   "cell_type": "code",
   "execution_count": 12,
   "metadata": {},
   "outputs": [
    {
     "data": {
      "text/plain": [
       "{'mean_fit_time': array([ 10.40138259,   8.79986119,   8.73853617,  13.84563422,\n",
       "         13.81859999,  13.82009902,  19.11674123,  18.75843472,\n",
       "         18.49697223,  23.74951258,  23.36606236,  23.1425683 ]),\n",
       " 'mean_score_time': array([ 0.05756078,  0.05474725,  0.05671163,  0.07447276,  0.0759306 ,\n",
       "         0.07562542,  0.09062648,  0.09183912,  0.09054003,  0.11163974,\n",
       "         0.12681036,  0.09190631]),\n",
       " 'mean_test_score': array([-0.63001319, -0.63107128, -0.63101936, -0.62419796, -0.62542513,\n",
       "        -0.62649632, -0.63877321, -0.63498269, -0.63071621, -0.64853876,\n",
       "        -0.64225889, -0.6360618 ]),\n",
       " 'mean_train_score': array([-0.58026273, -0.58359528, -0.58556638, -0.48312985, -0.49670262,\n",
       "        -0.50679301, -0.36541607, -0.4053169 , -0.43244184, -0.26784162,\n",
       "        -0.33252136, -0.37442056]),\n",
       " 'param_max_depth': masked_array(data = [3 3 3 5 5 5 7 7 7 9 9 9],\n",
       "              mask = [False False False False False False False False False False False False],\n",
       "        fill_value = ?),\n",
       " 'param_min_child_weight': masked_array(data = [1 3 5 1 3 5 1 3 5 1 3 5],\n",
       "              mask = [False False False False False False False False False False False False],\n",
       "        fill_value = ?),\n",
       " 'params': ({'max_depth': 3, 'min_child_weight': 1},\n",
       "  {'max_depth': 3, 'min_child_weight': 3},\n",
       "  {'max_depth': 3, 'min_child_weight': 5},\n",
       "  {'max_depth': 5, 'min_child_weight': 1},\n",
       "  {'max_depth': 5, 'min_child_weight': 3},\n",
       "  {'max_depth': 5, 'min_child_weight': 5},\n",
       "  {'max_depth': 7, 'min_child_weight': 1},\n",
       "  {'max_depth': 7, 'min_child_weight': 3},\n",
       "  {'max_depth': 7, 'min_child_weight': 5},\n",
       "  {'max_depth': 9, 'min_child_weight': 1},\n",
       "  {'max_depth': 9, 'min_child_weight': 3},\n",
       "  {'max_depth': 9, 'min_child_weight': 5}),\n",
       " 'rank_test_score': array([ 4,  7,  6,  1,  2,  3, 10,  8,  5, 12, 11,  9], dtype=int32),\n",
       " 'split0_test_score': array([-0.62518008, -0.62726256, -0.62568889, -0.61943475, -0.61799068,\n",
       "        -0.62055894, -0.63078721, -0.62827304, -0.62942742, -0.6446358 ,\n",
       "        -0.63133783, -0.63210475]),\n",
       " 'split0_train_score': array([-0.58073337, -0.58512101, -0.58745495, -0.48612654, -0.49862365,\n",
       "        -0.50804952, -0.36657732, -0.40432032, -0.43352278, -0.2716388 ,\n",
       "        -0.33360329, -0.37590426]),\n",
       " 'split1_test_score': array([-0.62755521, -0.62775768, -0.62852141, -0.62510174, -0.62436117,\n",
       "        -0.62965009, -0.64263161, -0.63097569, -0.62832408, -0.64533428,\n",
       "        -0.64134521, -0.63145787]),\n",
       " 'split1_train_score': array([-0.58048341, -0.5837995 , -0.58581343, -0.48240364, -0.49578317,\n",
       "        -0.50725245, -0.36340855, -0.40506572, -0.43221882, -0.26402656,\n",
       "        -0.33409588, -0.37576567]),\n",
       " 'split2_test_score': array([-0.62777989, -0.63046961, -0.63242752, -0.61988399, -0.62508571,\n",
       "        -0.62459104, -0.63324704, -0.62851022, -0.62441581, -0.64291457,\n",
       "        -0.63534941, -0.62986241]),\n",
       " 'split2_train_score': array([-0.58091882, -0.58319845, -0.5851671 , -0.48316788, -0.49667165,\n",
       "        -0.50622849, -0.3667272 , -0.40741512, -0.43352424, -0.27105722,\n",
       "        -0.33323962, -0.37667694]),\n",
       " 'split3_test_score': array([-0.64141025, -0.64124912, -0.64163128, -0.64226527, -0.63821866,\n",
       "        -0.64188862, -0.65529076, -0.65698079, -0.64714645, -0.66915023,\n",
       "        -0.66141672, -0.65933035]),\n",
       " 'split3_train_score': array([-0.57587984, -0.57931959, -0.58114561, -0.47951001, -0.49297911,\n",
       "        -0.50229025, -0.35990887, -0.40053205, -0.42783842, -0.26245237,\n",
       "        -0.32603513, -0.36909586]),\n",
       " 'split4_test_score': array([-0.62814227, -0.62861856, -0.62682742, -0.61429604, -0.62146974,\n",
       "        -0.6157836 , -0.63190463, -0.63017428, -0.62426264, -0.64065457,\n",
       "        -0.64185078, -0.62754937]),\n",
       " 'split4_train_score': array([-0.58329819, -0.58653784, -0.58825078, -0.48444119, -0.49945553,\n",
       "        -0.51014431, -0.3704584 , -0.40925129, -0.43510495, -0.27003314,\n",
       "        -0.33563289, -0.37466006]),\n",
       " 'std_fit_time': array([ 0.76125668,  0.06440969,  0.0133893 ,  0.08599866,  0.05991068,\n",
       "         0.12785988,  0.12606271,  0.0839367 ,  0.06221331,  0.02390958,\n",
       "         0.49336715,  2.25546754]),\n",
       " 'std_score_time': array([ 0.00327396,  0.00434709,  0.00402973,  0.00416619,  0.00150623,\n",
       "         0.00236842,  0.00155134,  0.00371106,  0.00359729,  0.00063386,\n",
       "         0.04506901,  0.01138204]),\n",
       " 'std_test_score': array([ 0.00579297,  0.00520498,  0.00577619,  0.00965924,  0.00686805,\n",
       "         0.00894899,  0.009265  ,  0.01104548,  0.00846926,  0.01043146,\n",
       "         0.01034499,  0.01173984]),\n",
       " 'std_train_score': array([ 0.00241348,  0.00242764,  0.00247129,  0.00220598,  0.00227946,\n",
       "         0.00259286,  0.00354548,  0.00296084,  0.00247683,  0.00382518,\n",
       "         0.0033442 ,  0.00273904])}"
      ]
     },
     "execution_count": 12,
     "metadata": {},
     "output_type": "execute_result"
    }
   ],
   "source": [
    "gsearch2_1.cv_results_"
   ]
  },
  {
   "cell_type": "code",
   "execution_count": 13,
   "metadata": {},
   "outputs": [
    {
     "name": "stdout",
     "output_type": "stream",
     "text": [
      "Best: -0.624198 using {'max_depth': 5, 'min_child_weight': 1}\n"
     ]
    },
    {
     "data": {
      "image/png": "[encoded data removed]",
      "text/plain": [
       "<matplotlib.figure.Figure at 0x1132a50d0>"
      ]
     },
     "metadata": {},
     "output_type": "display_data"
    }
   ],
   "source": [
    "# summarize results\n",
    "print(\"Best: %f using %s\" % (gsearch2_1.best_score_, gsearch2_1.best_params_))\n",
    "test_means = gsearch2_1.cv_results_[ 'mean_test_score' ]\n",
    "test_stds = gsearch2_1.cv_results_[ 'std_test_score' ]\n",
    "train_means = gsearch2_1.cv_results_[ 'mean_train_score' ]\n",
    "train_stds = gsearch2_1.cv_results_[ 'std_train_score' ]\n",
    "\n",
    "pd.DataFrame(gsearch2_1.cv_results_).to_csv('my_preds_maxdepth_min_child_weights_1.csv')\n",
    "\n",
    "# plot results\n",
    "test_scores = np.array(test_means).reshape(len(max_depth), len(min_child_weight))\n",
    "train_scores = np.array(train_means).reshape(len(max_depth), len(min_child_weight))\n",
    "\n",
    "for i, value in enumerate(max_depth):\n",
    "    plt.plot(min_child_weight, -test_scores[i], label= 'test_max_depth:'   + str(value))\n",
    "#for i, value in enumerate(min_child_weight):\n",
    "#    pyplot.plot(max_depth, train_scores[i], label= 'train_min_child_weight:'   + str(value))\n",
    "    \n",
    "plt.legend()\n",
    "plt.xlabel( 'max_depth' )                                                                                                      \n",
    "plt.ylabel( 'Log Loss' )\n",
    "plt.savefig('max_depth_vs_min_child_weght_1.png' )"
   ]
  },
  {
   "cell_type": "markdown",
   "metadata": {},
   "source": [
    "再次微调"
   ]
  },
  {
   "cell_type": "code",
   "execution_count": 14,
   "metadata": {},
   "outputs": [
    {
     "data": {
      "text/plain": [
       "{'max_depth': [6, 7, 8], 'min_child_weight': [4, 5, 6]}"
      ]
     },
     "execution_count": 14,
     "metadata": {},
     "output_type": "execute_result"
    }
   ],
   "source": [
    "#max_depth 建议3-10， min_child_weight=1／sqrt(ratio_rare_event) =5.5\n",
    "max_depth = [6,7,8]\n",
    "min_child_weight = [4,5,6]\n",
    "param_test2_2 = dict(max_depth=max_depth, min_child_weight=min_child_weight)\n",
    "param_test2_2"
   ]
  },
  {
   "cell_type": "code",
   "execution_count": 15,
   "metadata": {},
   "outputs": [
    {
     "name": "stderr",
     "output_type": "stream",
     "text": [
      "/Users/Yubo/anaconda3/envs/py27/lib/python2.7/site-packages/sklearn/model_selection/_search.py:667: DeprecationWarning: The grid_scores_ attribute was deprecated in version 0.18 in favor of the more elaborate cv_results_ attribute. The grid_scores_ attribute will not be available from 0.20\n",
      "  DeprecationWarning)\n"
     ]
    },
    {
     "data": {
      "text/plain": [
       "([mean: -0.62786, std: 0.00913, params: {'max_depth': 6, 'min_child_weight': 4},\n",
       "  mean: -0.62674, std: 0.00961, params: {'max_depth': 6, 'min_child_weight': 5},\n",
       "  mean: -0.62595, std: 0.01102, params: {'max_depth': 6, 'min_child_weight': 6},\n",
       "  mean: -0.63233, std: 0.01028, params: {'max_depth': 7, 'min_child_weight': 4},\n",
       "  mean: -0.63072, std: 0.00847, params: {'max_depth': 7, 'min_child_weight': 5},\n",
       "  mean: -0.63047, std: 0.00872, params: {'max_depth': 7, 'min_child_weight': 6},\n",
       "  mean: -0.63639, std: 0.00736, params: {'max_depth': 8, 'min_child_weight': 4},\n",
       "  mean: -0.63423, std: 0.00971, params: {'max_depth': 8, 'min_child_weight': 5},\n",
       "  mean: -0.63571, std: 0.00974, params: {'max_depth': 8, 'min_child_weight': 6}],\n",
       " {'max_depth': 6, 'min_child_weight': 6},\n",
       " -0.62595254119471644)"
      ]
     },
     "execution_count": 15,
     "metadata": {},
     "output_type": "execute_result"
    }
   ],
   "source": [
    "xgb2_2 = XGBClassifier(\n",
    "        learning_rate =0.1,\n",
    "        n_estimators=106,  #第一轮参数调整得到的n_estimators最优值\n",
    "        max_depth=5,\n",
    "        min_child_weight=1,\n",
    "        gamma=0,\n",
    "        subsample=0.3,\n",
    "        colsample_bytree=0.8,\n",
    "        colsample_bylevel = 0.7,\n",
    "        objective= 'multi:softprob',\n",
    "        seed=3)\n",
    "\n",
    "\n",
    "gsearch2_2 = GridSearchCV(xgb2_2, param_grid = param_test2_2, scoring='neg_log_loss',n_jobs=-1, cv=kfold)\n",
    "gsearch2_2.fit(X_train , y_train)\n",
    "\n",
    "gsearch2_2.grid_scores_, gsearch2_2.best_params_,     gsearch2_2.best_score_"
   ]
  },
  {
   "cell_type": "code",
   "execution_count": 16,
   "metadata": {},
   "outputs": [
    {
     "data": {
      "text/plain": [
       "{'mean_fit_time': array([ 21.12147708,  20.40395732,  18.95859041,  20.94686155,\n",
       "         18.85391841,  18.45414219,  20.85379653,  20.69624696,  19.08767056]),\n",
       " 'mean_score_time': array([ 0.099686  ,  0.08939242,  0.08597083,  0.09455543,  0.09019556,\n",
       "         0.09332838,  0.0989285 ,  0.09545374,  0.08490438]),\n",
       " 'mean_test_score': array([-0.62786164, -0.62673694, -0.62595254, -0.63233127, -0.63071621,\n",
       "        -0.63046748, -0.63638843, -0.63422605, -0.63571068]),\n",
       " 'mean_train_score': array([-0.45985549, -0.46736168, -0.47575992, -0.42011949, -0.43244184,\n",
       "        -0.44296075, -0.38290501, -0.39892215, -0.41360291]),\n",
       " 'param_max_depth': masked_array(data = [6 6 6 7 7 7 8 8 8],\n",
       "              mask = [False False False False False False False False False],\n",
       "        fill_value = ?),\n",
       " 'param_min_child_weight': masked_array(data = [4 5 6 4 5 6 4 5 6],\n",
       "              mask = [False False False False False False False False False],\n",
       "        fill_value = ?),\n",
       " 'params': ({'max_depth': 6, 'min_child_weight': 4},\n",
       "  {'max_depth': 6, 'min_child_weight': 5},\n",
       "  {'max_depth': 6, 'min_child_weight': 6},\n",
       "  {'max_depth': 7, 'min_child_weight': 4},\n",
       "  {'max_depth': 7, 'min_child_weight': 5},\n",
       "  {'max_depth': 7, 'min_child_weight': 6},\n",
       "  {'max_depth': 8, 'min_child_weight': 4},\n",
       "  {'max_depth': 8, 'min_child_weight': 5},\n",
       "  {'max_depth': 8, 'min_child_weight': 6}),\n",
       " 'rank_test_score': array([3, 2, 1, 6, 5, 4, 9, 7, 8], dtype=int32),\n",
       " 'split0_test_score': array([-0.62276053, -0.62019872, -0.61898976, -0.62986264, -0.62942742,\n",
       "        -0.6230216 , -0.63861609, -0.63163811, -0.64182515]),\n",
       " 'split0_train_score': array([-0.46276309, -0.46900642, -0.47681836, -0.42296947, -0.43352278,\n",
       "        -0.44347134, -0.3852821 , -0.40151826, -0.41719441]),\n",
       " 'split1_test_score': array([-0.62560568, -0.6250483 , -0.62582225, -0.63192395, -0.62832408,\n",
       "        -0.63187337, -0.63108602, -0.62950537, -0.62737939]),\n",
       " 'split1_train_score': array([-0.46150401, -0.46807337, -0.47820023, -0.42035203, -0.43221882,\n",
       "        -0.44209186, -0.38082168, -0.39916517, -0.41125273]),\n",
       " 'split2_test_score': array([-0.62338452, -0.62693416, -0.62515876, -0.62825514, -0.62441581,\n",
       "        -0.6288439 , -0.63662005, -0.62948838, -0.6338548 ]),\n",
       " 'split2_train_score': array([-0.46143853, -0.46809665, -0.47462746, -0.42088198, -0.43352424,\n",
       "        -0.44435218, -0.38208089, -0.39934717, -0.41339026]),\n",
       " 'split3_test_score': array([-0.64593583, -0.6445993 , -0.64613327, -0.65132004, -0.64714645,\n",
       "        -0.646352  , -0.64862246, -0.65342309, -0.65107402]),\n",
       " 'split3_train_score': array([-0.45174031, -0.46039381, -0.4697877 , -0.41200136, -0.42783842,\n",
       "        -0.43733324, -0.37958937, -0.39515603, -0.40989931]),\n",
       " 'split4_test_score': array([-0.62161905, -0.61689849, -0.61364991, -0.62028395, -0.62426264,\n",
       "        -0.62224134, -0.62698966, -0.62707181, -0.62440983]),\n",
       " 'split4_train_score': array([-0.46183151, -0.47123813, -0.47936585, -0.42439262, -0.43510495,\n",
       "        -0.4475551 , -0.38675098, -0.39942412, -0.41627784]),\n",
       " 'std_fit_time': array([ 0.0961466 ,  0.66355627,  0.49811124,  0.1680607 ,  0.26134391,\n",
       "         0.07190251,  0.05466919,  0.08145217,  2.33217903]),\n",
       " 'std_score_time': array([ 0.01344497,  0.00845126,  0.00263526,  0.00611005,  0.00205766,\n",
       "         0.00406065,  0.00338668,  0.00159091,  0.00895781]),\n",
       " 'std_test_score': array([ 0.00912993,  0.00960649,  0.01102376,  0.01028051,  0.00846926,\n",
       "         0.00871782,  0.00736299,  0.0097067 ,  0.00973559]),\n",
       " 'std_train_score': array([ 0.00408506,  0.0036696 ,  0.00337722,  0.00431095,  0.00247683,\n",
       "         0.00333852,  0.00270018,  0.00206955,  0.00280497])}"
      ]
     },
     "execution_count": 16,
     "metadata": {},
     "output_type": "execute_result"
    }
   ],
   "source": [
    "gsearch2_2.cv_results_"
   ]
  },
  {
   "cell_type": "code",
   "execution_count": 17,
   "metadata": {},
   "outputs": [
    {
     "name": "stdout",
     "output_type": "stream",
     "text": [
      "Best: -0.625953 using {'max_depth': 6, 'min_child_weight': 6}\n"
     ]
    },
    {
     "data": {
      "image/png": "[encoded data removed]",
      "text/plain": [
       "<matplotlib.figure.Figure at 0x1138f6790>"
      ]
     },
     "metadata": {},
     "output_type": "display_data"
    }
   ],
   "source": [
    "# summarize results\n",
    "print(\"Best: %f using %s\" % (gsearch2_2.best_score_, gsearch2_2.best_params_))\n",
    "test_means = gsearch2_2.cv_results_[ 'mean_test_score' ]\n",
    "test_stds = gsearch2_2.cv_results_[ 'std_test_score' ]\n",
    "train_means = gsearch2_2.cv_results_[ 'mean_train_score' ]\n",
    "train_stds = gsearch2_2.cv_results_[ 'std_train_score' ]\n",
    "\n",
    "pd.DataFrame(gsearch2_2.cv_results_).to_csv('my_preds_maxdepth_min_child_weights_2.csv')\n",
    "\n",
    "# plot results\n",
    "test_scores = np.array(test_means).reshape(len(min_child_weight), len(max_depth))\n",
    "train_scores = np.array(train_means).reshape(len(min_child_weight), len(max_depth))\n",
    "\n",
    "for i, value in enumerate(min_child_weight):\n",
    "    plt.plot(max_depth, test_scores[i], label= 'test_min_child_weight:'   + str(value))\n",
    "#for i, value in enumerate(min_child_weight):\n",
    "#    pyplot.plot(max_depth, train_scores[i], label= 'train_min_child_weight:'   + str(value))\n",
    "    \n",
    "plt.legend()\n",
    "plt.xlabel( 'max_depth' )                                                                                                      \n",
    "plt.ylabel( '- Log Loss' )\n",
    "plt.savefig( 'max_depth_vs_min_child_weght2.png' )"
   ]
  },
  {
   "cell_type": "markdown",
   "metadata": {},
   "source": [
    "## 第三步 再次调整nestimators"
   ]
  },
  {
   "cell_type": "code",
   "execution_count": 42,
   "metadata": {
    "collapsed": true
   },
   "outputs": [],
   "source": [
    "def modelfit(alg, X_train, y_train, useTrainCV=True, cv_folds=None, early_stopping_rounds=100):\n",
    "    \n",
    "    if useTrainCV:\n",
    "        xgb_param = alg.get_xgb_params()\n",
    "        xgb_param['num_class'] = 3\n",
    "        \n",
    "        xgtrain = xgb.DMatrix(X_train, label = y_train)\n",
    "        \n",
    "        cvresult = xgb.cv(xgb_param, xgtrain, num_boost_round=alg.get_params()['n_estimators'], folds =cv_folds,\n",
    "                         metrics='mlogloss', early_stopping_rounds=early_stopping_rounds)\n",
    "        \n",
    "        n_estimators = cvresult.shape[0]\n",
    "        alg.set_params(n_estimators = n_estimators)\n",
    "        \n",
    "        print cvresult\n",
    "        #result = pd.DataFrame(cvresult)   #cv缺省返回结果为DataFrame\n",
    "        #result.to_csv('my_preds.csv', index_label = 'n_estimators')\n",
    "        cvresult.to_csv('my_preds4_2_3_106.csv', index_label = 'n_estimators')\n",
    "        \n",
    "        # plot\n",
    "        test_means = cvresult['test-mlogloss-mean']\n",
    "        test_stds = cvresult['test-mlogloss-std'] \n",
    "        \n",
    "        train_means = cvresult['train-mlogloss-mean']\n",
    "        train_stds = cvresult['train-mlogloss-std'] \n",
    "\n",
    "        x_axis = range(0, n_estimators)\n",
    "        plt.errorbar(x_axis, test_means, yerr=test_stds ,label='Test')\n",
    "        plt.errorbar(x_axis, train_means, yerr=train_stds ,label='Train')\n",
    "        plt.title(\"XGBoost n_estimators vs Log Loss\")\n",
    "        plt.xlabel( 'n_estimators' )\n",
    "        plt.ylabel( 'Log Loss' )\n",
    "        plt.savefig( 'n_estimators4_2_3_106.png' )\n",
    "    \n",
    "    #Fit the algorithm on the data\n",
    "    alg.fit(X_train, y_train, eval_metric='mlogloss')\n",
    "        \n",
    "    #Predict training set:\n",
    "    train_predprob = alg.predict_proba(X_train)\n",
    "    logloss = log_loss(y_train, train_predprob)\n",
    "\n",
    "        \n",
    "    #Print model report:\n",
    "    print (\"logloss of train :\" )\n",
    "    print logloss"
   ]
  },
  {
   "cell_type": "code",
   "execution_count": 43,
   "metadata": {},
   "outputs": [
    {
     "ename": "IndexError",
     "evalue": "list index out of range",
     "output_type": "error",
     "traceback": [
      "\u001b[0;31m---------------------------------------------------------------------------\u001b[0m",
      "\u001b[0;31mIndexError\u001b[0m                                Traceback (most recent call last)",
      "\u001b[0;32m<ipython-input-43-73f2106f17bd>\u001b[0m in \u001b[0;36m<module>\u001b[0;34m()\u001b[0m\n\u001b[1;32m     12\u001b[0m         seed=3)\n\u001b[1;32m     13\u001b[0m \u001b[0;34m\u001b[0m\u001b[0m\n\u001b[0;32m---> 14\u001b[0;31m \u001b[0mmodelfit\u001b[0m\u001b[0;34m(\u001b[0m\u001b[0mxgb2_3\u001b[0m\u001b[0;34m,\u001b[0m \u001b[0mX_train\u001b[0m\u001b[0;34m,\u001b[0m \u001b[0my_train\u001b[0m\u001b[0;34m,\u001b[0m \u001b[0mcv_folds\u001b[0m \u001b[0;34m=\u001b[0m \u001b[0mkf\u001b[0m\u001b[0;34m)\u001b[0m\u001b[0;34m\u001b[0m\u001b[0m\n\u001b[0m\u001b[1;32m     15\u001b[0m \u001b[0;31m#from sklearn.model_selection import cross_val_score\u001b[0m\u001b[0;34m\u001b[0m\u001b[0;34m\u001b[0m\u001b[0m\n\u001b[1;32m     16\u001b[0m \u001b[0;31m#results = cross_val_score(xgb2_3, X_train, y_train, metrics='mlogloss', cv=kfold)\u001b[0m\u001b[0;34m\u001b[0m\u001b[0;34m\u001b[0m\u001b[0m\n",
      "\u001b[0;32m<ipython-input-42-606c51520faf>\u001b[0m in \u001b[0;36mmodelfit\u001b[0;34m(alg, X_train, y_train, useTrainCV, cv_folds, early_stopping_rounds)\u001b[0m\n\u001b[1;32m      8\u001b[0m \u001b[0;34m\u001b[0m\u001b[0m\n\u001b[1;32m      9\u001b[0m         cvresult = xgb.cv(xgb_param, xgtrain, num_boost_round=alg.get_params()['n_estimators'], folds =cv_folds,\n\u001b[0;32m---> 10\u001b[0;31m                          metrics='mlogloss', early_stopping_rounds=early_stopping_rounds)\n\u001b[0m\u001b[1;32m     11\u001b[0m \u001b[0;34m\u001b[0m\u001b[0m\n\u001b[1;32m     12\u001b[0m         \u001b[0mn_estimators\u001b[0m \u001b[0;34m=\u001b[0m \u001b[0mcvresult\u001b[0m\u001b[0;34m.\u001b[0m\u001b[0mshape\u001b[0m\u001b[0;34m[\u001b[0m\u001b[0;36m0\u001b[0m\u001b[0;34m]\u001b[0m\u001b[0;34m\u001b[0m\u001b[0m\n",
      "\u001b[0;32m/Users/Yubo/anaconda3/envs/py27/lib/python2.7/site-packages/xgboost/training.pyc\u001b[0m in \u001b[0;36mcv\u001b[0;34m(params, dtrain, num_boost_round, nfold, stratified, folds, metrics, obj, feval, maximize, early_stopping_rounds, fpreproc, as_pandas, verbose_eval, show_stdv, seed, callbacks)\u001b[0m\n\u001b[1;32m    399\u001b[0m         \u001b[0;32mfor\u001b[0m \u001b[0mfold\u001b[0m \u001b[0;32min\u001b[0m \u001b[0mcvfolds\u001b[0m\u001b[0;34m:\u001b[0m\u001b[0;34m\u001b[0m\u001b[0m\n\u001b[1;32m    400\u001b[0m             \u001b[0mfold\u001b[0m\u001b[0;34m.\u001b[0m\u001b[0mupdate\u001b[0m\u001b[0;34m(\u001b[0m\u001b[0mi\u001b[0m\u001b[0;34m,\u001b[0m \u001b[0mobj\u001b[0m\u001b[0;34m)\u001b[0m\u001b[0;34m\u001b[0m\u001b[0m\n\u001b[0;32m--> 401\u001b[0;31m         \u001b[0mres\u001b[0m \u001b[0;34m=\u001b[0m \u001b[0maggcv\u001b[0m\u001b[0;34m(\u001b[0m\u001b[0;34m[\u001b[0m\u001b[0mf\u001b[0m\u001b[0;34m.\u001b[0m\u001b[0meval\u001b[0m\u001b[0;34m(\u001b[0m\u001b[0mi\u001b[0m\u001b[0;34m,\u001b[0m \u001b[0mfeval\u001b[0m\u001b[0;34m)\u001b[0m \u001b[0;32mfor\u001b[0m \u001b[0mf\u001b[0m \u001b[0;32min\u001b[0m \u001b[0mcvfolds\u001b[0m\u001b[0;34m]\u001b[0m\u001b[0;34m)\u001b[0m\u001b[0;34m\u001b[0m\u001b[0m\n\u001b[0m\u001b[1;32m    402\u001b[0m \u001b[0;34m\u001b[0m\u001b[0m\n\u001b[1;32m    403\u001b[0m         \u001b[0;32mfor\u001b[0m \u001b[0mkey\u001b[0m\u001b[0;34m,\u001b[0m \u001b[0mmean\u001b[0m\u001b[0;34m,\u001b[0m \u001b[0mstd\u001b[0m \u001b[0;32min\u001b[0m \u001b[0mres\u001b[0m\u001b[0;34m:\u001b[0m\u001b[0;34m\u001b[0m\u001b[0m\n",
      "\u001b[0;32m/Users/Yubo/anaconda3/envs/py27/lib/python2.7/site-packages/xgboost/training.pyc\u001b[0m in \u001b[0;36maggcv\u001b[0;34m(rlist)\u001b[0m\n\u001b[1;32m    268\u001b[0m     \"\"\"\n\u001b[1;32m    269\u001b[0m     \u001b[0mcvmap\u001b[0m \u001b[0;34m=\u001b[0m \u001b[0;34m{\u001b[0m\u001b[0;34m}\u001b[0m\u001b[0;34m\u001b[0m\u001b[0m\n\u001b[0;32m--> 270\u001b[0;31m     \u001b[0midx\u001b[0m \u001b[0;34m=\u001b[0m \u001b[0mrlist\u001b[0m\u001b[0;34m[\u001b[0m\u001b[0;36m0\u001b[0m\u001b[0;34m]\u001b[0m\u001b[0;34m.\u001b[0m\u001b[0msplit\u001b[0m\u001b[0;34m(\u001b[0m\u001b[0;34m)\u001b[0m\u001b[0;34m[\u001b[0m\u001b[0;36m0\u001b[0m\u001b[0;34m]\u001b[0m\u001b[0;34m\u001b[0m\u001b[0m\n\u001b[0m\u001b[1;32m    271\u001b[0m     \u001b[0;32mfor\u001b[0m \u001b[0mline\u001b[0m \u001b[0;32min\u001b[0m \u001b[0mrlist\u001b[0m\u001b[0;34m:\u001b[0m\u001b[0;34m\u001b[0m\u001b[0m\n\u001b[1;32m    272\u001b[0m         \u001b[0marr\u001b[0m \u001b[0;34m=\u001b[0m \u001b[0mline\u001b[0m\u001b[0;34m.\u001b[0m\u001b[0msplit\u001b[0m\u001b[0;34m(\u001b[0m\u001b[0;34m)\u001b[0m\u001b[0;34m\u001b[0m\u001b[0m\n",
      "\u001b[0;31mIndexError\u001b[0m: list index out of range"
     ]
    }
   ],
   "source": [
    "#调整max_depth和min_child_weight之后再次调整n_estimators(6,4)\n",
    "xgb2_3 = XGBClassifier(\n",
    "        learning_rate =0.1,\n",
    "        n_estimators=106,  #数值大没关系，cv会自动返回合适的n_estimators\n",
    "        max_depth=6,\n",
    "        min_child_weight=6,\n",
    "        gamma=0,\n",
    "        subsample=0.3,\n",
    "        colsample_bytree=0.8,\n",
    "        colsample_bylevel=0.7,\n",
    "        objective= 'multi:softprob',\n",
    "        seed=3)\n",
    "\n",
    "modelfit(xgb2_3, X_train, y_train, cv_folds = kf)\n",
    "#from sklearn.model_selection import cross_val_score\n",
    "#results = cross_val_score(xgb2_3, X_train, y_train, metrics='mlogloss', cv=kfold)\n",
    "#print results\n",
    "#print(\"CV logloss: %.2f%% (%.2f%%)\" % (results.mean()*100, results.std()*100))"
   ]
  },
  {
   "cell_type": "markdown",
   "metadata": {
    "collapsed": true
   },
   "source": [
    "不知道为什么总是报INDEX的错， 求帮助解答一下\n",
    "\n",
    "### 第四步：调整树的参数：subsample 和 colsample_bytree\n",
    "(粗调，参数的步长为0.1；下一步是在粗调最佳参数周围，将步长降为0.05，进行精细调整)"
   ]
  },
  {
   "cell_type": "code",
   "execution_count": 44,
   "metadata": {},
   "outputs": [
    {
     "data": {
      "text/plain": [
       "{'colsample_bytree': [0.6, 0.7, 0.8, 0.9],\n",
       " 'subsample': [0.3, 0.4, 0.5, 0.6, 0.7, 0.8]}"
      ]
     },
     "execution_count": 44,
     "metadata": {},
     "output_type": "execute_result"
    }
   ],
   "source": [
    "#max_depth 建议3-10， min_child_weight=1／sqrt(ratio_rare_event) =5.5\n",
    "subsample = [i/10.0 for i in range(3,9)]\n",
    "colsample_bytree = [i/10.0 for i in range(6,10)]\n",
    "param_test3_1 = dict(subsample=subsample, colsample_bytree=colsample_bytree)\n",
    "param_test3_1\n",
    "\n"
   ]
  },
  {
   "cell_type": "code",
   "execution_count": 50,
   "metadata": {},
   "outputs": [
    {
     "name": "stderr",
     "output_type": "stream",
     "text": [
      "/Users/Yubo/anaconda3/envs/py27/lib/python2.7/site-packages/sklearn/model_selection/_search.py:667: DeprecationWarning: The grid_scores_ attribute was deprecated in version 0.18 in favor of the more elaborate cv_results_ attribute. The grid_scores_ attribute will not be available from 0.20\n",
      "  DeprecationWarning)\n"
     ]
    },
    {
     "data": {
      "text/plain": [
       "([mean: -0.62607, std: 0.00903, params: {'subsample': 0.3, 'colsample_bytree': 0.6},\n",
       "  mean: -0.62408, std: 0.00915, params: {'subsample': 0.4, 'colsample_bytree': 0.6},\n",
       "  mean: -0.62205, std: 0.00859, params: {'subsample': 0.5, 'colsample_bytree': 0.6},\n",
       "  mean: -0.61969, std: 0.01048, params: {'subsample': 0.6, 'colsample_bytree': 0.6},\n",
       "  mean: -0.61855, std: 0.01087, params: {'subsample': 0.7, 'colsample_bytree': 0.6},\n",
       "  mean: -0.61906, std: 0.01031, params: {'subsample': 0.8, 'colsample_bytree': 0.6},\n",
       "  mean: -0.62792, std: 0.00954, params: {'subsample': 0.3, 'colsample_bytree': 0.7},\n",
       "  mean: -0.62443, std: 0.00747, params: {'subsample': 0.4, 'colsample_bytree': 0.7},\n",
       "  mean: -0.62116, std: 0.00923, params: {'subsample': 0.5, 'colsample_bytree': 0.7},\n",
       "  mean: -0.61832, std: 0.00819, params: {'subsample': 0.6, 'colsample_bytree': 0.7},\n",
       "  mean: -0.61892, std: 0.00983, params: {'subsample': 0.7, 'colsample_bytree': 0.7},\n",
       "  mean: -0.61866, std: 0.00885, params: {'subsample': 0.8, 'colsample_bytree': 0.7},\n",
       "  mean: -0.62595, std: 0.01102, params: {'subsample': 0.3, 'colsample_bytree': 0.8},\n",
       "  mean: -0.62386, std: 0.01285, params: {'subsample': 0.4, 'colsample_bytree': 0.8},\n",
       "  mean: -0.62182, std: 0.01021, params: {'subsample': 0.5, 'colsample_bytree': 0.8},\n",
       "  mean: -0.62099, std: 0.00935, params: {'subsample': 0.6, 'colsample_bytree': 0.8},\n",
       "  mean: -0.61993, std: 0.00999, params: {'subsample': 0.7, 'colsample_bytree': 0.8},\n",
       "  mean: -0.61717, std: 0.01016, params: {'subsample': 0.8, 'colsample_bytree': 0.8},\n",
       "  mean: -0.62393, std: 0.00766, params: {'subsample': 0.3, 'colsample_bytree': 0.9},\n",
       "  mean: -0.62514, std: 0.00959, params: {'subsample': 0.4, 'colsample_bytree': 0.9},\n",
       "  mean: -0.62433, std: 0.00901, params: {'subsample': 0.5, 'colsample_bytree': 0.9},\n",
       "  mean: -0.62129, std: 0.01075, params: {'subsample': 0.6, 'colsample_bytree': 0.9},\n",
       "  mean: -0.62060, std: 0.00972, params: {'subsample': 0.7, 'colsample_bytree': 0.9},\n",
       "  mean: -0.62099, std: 0.01078, params: {'subsample': 0.8, 'colsample_bytree': 0.9}],\n",
       " {'colsample_bytree': 0.8, 'subsample': 0.8},\n",
       " -0.61717410075683143)"
      ]
     },
     "execution_count": 50,
     "metadata": {},
     "output_type": "execute_result"
    }
   ],
   "source": [
    "xgb3_1 = XGBClassifier(\n",
    "        learning_rate =0.1,\n",
    "        n_estimators=106,  #第二轮参数调整得到的n_estimators最优值，第二轮报错，不知道为啥继续用第一轮的吧。。\n",
    "        max_depth=6,\n",
    "        min_child_weight=6,\n",
    "        gamma=0,\n",
    "        subsample=0.3,\n",
    "        colsample_bytree=0.8,\n",
    "        colsample_bylevel = 0.7,\n",
    "        objective= 'multi:softprob',\n",
    "        seed=3)\n",
    "\n",
    "\n",
    "gsearch3_1 = GridSearchCV(xgb3_1, param_grid = param_test3_1, scoring='neg_log_loss',n_jobs=-1, cv=kfold)\n",
    "gsearch3_1.fit(X_train , y_train)\n",
    "\n",
    "gsearch3_1.grid_scores_, gsearch3_1.best_params_,     gsearch3_1.best_score_"
   ]
  },
  {
   "cell_type": "code",
   "execution_count": 51,
   "metadata": {},
   "outputs": [
    {
     "data": {
      "text/plain": [
       "{'mean_fit_time': array([ 14.18745112,  15.01321921,  16.45907474,  16.28776875,\n",
       "         15.67321739,  15.44479666,  14.69118161,  16.96318936,\n",
       "         18.59073029,  18.63828301,  18.10248837,  17.41086264,\n",
       "         16.5257072 ,  21.7342092 ,  23.7305944 ,  21.90365973,\n",
       "         20.57450233,  19.90708723,  18.332621  ,  21.233248  ,\n",
       "         23.41412997,  23.45283422,  22.71515808,  21.33621559]),\n",
       " 'mean_score_time': array([ 0.08577032,  0.08900876,  0.08252521,  0.0800107 ,  0.07926903,\n",
       "         0.08520236,  0.08351603,  0.08127737,  0.08348312,  0.08440976,\n",
       "         0.08105245,  0.07947998,  0.0827816 ,  0.11370196,  0.08775816,\n",
       "         0.10140262,  0.07993579,  0.0795814 ,  0.08339357,  0.08204498,\n",
       "         0.08195205,  0.08030753,  0.08052473,  0.07913399]),\n",
       " 'mean_test_score': array([-0.62607192, -0.62407577, -0.62205033, -0.61968935, -0.61854797,\n",
       "        -0.61905692, -0.62791773, -0.62443426, -0.62115878, -0.61832082,\n",
       "        -0.61892154, -0.61866031, -0.62595254, -0.62386331, -0.6218156 ,\n",
       "        -0.62098763, -0.61992738, -0.6171741 , -0.62393087, -0.62514284,\n",
       "        -0.62433451, -0.6212889 , -0.62059613, -0.62098624]),\n",
       " 'mean_train_score': array([-0.48492869, -0.46976679, -0.45977988, -0.45142728, -0.44532879,\n",
       "        -0.44414282, -0.47905214, -0.46402195, -0.45451234, -0.4495514 ,\n",
       "        -0.44299821, -0.44116778, -0.47575992, -0.45975157, -0.45032423,\n",
       "        -0.44379669, -0.43895625, -0.43565371, -0.47318488, -0.45501043,\n",
       "        -0.44529659, -0.44035104, -0.43511566, -0.43213266]),\n",
       " 'param_colsample_bytree': masked_array(data = [0.6 0.6 0.6 0.6 0.6 0.6 0.7 0.7 0.7 0.7 0.7 0.7 0.8 0.8 0.8 0.8 0.8 0.8\n",
       "  0.9 0.9 0.9 0.9 0.9 0.9],\n",
       "              mask = [False False False False False False False False False False False False\n",
       "  False False False False False False False False False False False False],\n",
       "        fill_value = ?),\n",
       " 'param_subsample': masked_array(data = [0.3 0.4 0.5 0.6 0.7 0.8 0.3 0.4 0.5 0.6 0.7 0.8 0.3 0.4 0.5 0.6 0.7 0.8\n",
       "  0.3 0.4 0.5 0.6 0.7 0.8],\n",
       "              mask = [False False False False False False False False False False False False\n",
       "  False False False False False False False False False False False False],\n",
       "        fill_value = ?),\n",
       " 'params': ({'colsample_bytree': 0.6, 'subsample': 0.3},\n",
       "  {'colsample_bytree': 0.6, 'subsample': 0.4},\n",
       "  {'colsample_bytree': 0.6, 'subsample': 0.5},\n",
       "  {'colsample_bytree': 0.6, 'subsample': 0.6},\n",
       "  {'colsample_bytree': 0.6, 'subsample': 0.7},\n",
       "  {'colsample_bytree': 0.6, 'subsample': 0.8},\n",
       "  {'colsample_bytree': 0.7, 'subsample': 0.3},\n",
       "  {'colsample_bytree': 0.7, 'subsample': 0.4},\n",
       "  {'colsample_bytree': 0.7, 'subsample': 0.5},\n",
       "  {'colsample_bytree': 0.7, 'subsample': 0.6},\n",
       "  {'colsample_bytree': 0.7, 'subsample': 0.7},\n",
       "  {'colsample_bytree': 0.7, 'subsample': 0.8},\n",
       "  {'colsample_bytree': 0.8, 'subsample': 0.3},\n",
       "  {'colsample_bytree': 0.8, 'subsample': 0.4},\n",
       "  {'colsample_bytree': 0.8, 'subsample': 0.5},\n",
       "  {'colsample_bytree': 0.8, 'subsample': 0.6},\n",
       "  {'colsample_bytree': 0.8, 'subsample': 0.7},\n",
       "  {'colsample_bytree': 0.8, 'subsample': 0.8},\n",
       "  {'colsample_bytree': 0.9, 'subsample': 0.3},\n",
       "  {'colsample_bytree': 0.9, 'subsample': 0.4},\n",
       "  {'colsample_bytree': 0.9, 'subsample': 0.5},\n",
       "  {'colsample_bytree': 0.9, 'subsample': 0.6},\n",
       "  {'colsample_bytree': 0.9, 'subsample': 0.7},\n",
       "  {'colsample_bytree': 0.9, 'subsample': 0.8}),\n",
       " 'rank_test_score': array([23, 18, 15,  7,  3,  6, 24, 20, 12,  2,  5,  4, 22, 16, 14, 11,  8,\n",
       "         1, 17, 21, 19, 13,  9, 10], dtype=int32),\n",
       " 'split0_test_score': array([-0.62069518, -0.62054354, -0.61992889, -0.61241732, -0.61298391,\n",
       "        -0.61648366, -0.6220695 , -0.61904932, -0.61375321, -0.61164882,\n",
       "        -0.61292775, -0.61409952, -0.61898976, -0.61673233, -0.621875  ,\n",
       "        -0.61946143, -0.61356771, -0.61519139, -0.6161691 , -0.6233973 ,\n",
       "        -0.62074095, -0.61590439, -0.622194  , -0.61892104]),\n",
       " 'split0_train_score': array([-0.48449313, -0.46886428, -0.4583385 , -0.44898638, -0.44611208,\n",
       "        -0.44533251, -0.47886088, -0.46427703, -0.45501813, -0.44868918,\n",
       "        -0.44306113, -0.44197155, -0.47681836, -0.46169539, -0.44985361,\n",
       "        -0.44838056, -0.44266643, -0.43767285, -0.47366611, -0.45328602,\n",
       "        -0.44415508, -0.44369373, -0.43679332, -0.43343669]),\n",
       " 'split1_test_score': array([-0.62237478, -0.62166883, -0.61760777, -0.61305878, -0.61136514,\n",
       "        -0.61612129, -0.62492102, -0.62386016, -0.61735018, -0.61628058,\n",
       "        -0.61827725, -0.61627897, -0.62582225, -0.62283702, -0.61522444,\n",
       "        -0.61619063, -0.61433357, -0.61278168, -0.62364813, -0.61913174,\n",
       "        -0.62127145, -0.61811245, -0.61449689, -0.61508445]),\n",
       " 'split1_train_score': array([-0.48245532, -0.46731592, -0.45980617, -0.45224209, -0.44250257,\n",
       "        -0.44416319, -0.48266411, -0.46471925, -0.4535088 , -0.44995138,\n",
       "        -0.44099721, -0.43879434, -0.47820023, -0.45820827, -0.44937766,\n",
       "        -0.44062172, -0.43821828, -0.4342843 , -0.47433819, -0.45773954,\n",
       "        -0.44787816, -0.44007505, -0.4372414 , -0.43351862]),\n",
       " 'split2_test_score': array([-0.6211871 , -0.62053695, -0.62006624, -0.61931763, -0.61785996,\n",
       "        -0.61798394, -0.6245102 , -0.6278136 , -0.62029361, -0.61496666,\n",
       "        -0.61638   , -0.6142308 , -0.62515876, -0.61984159, -0.62390693,\n",
       "        -0.61887895, -0.62105591, -0.61224653, -0.62359818, -0.62706693,\n",
       "        -0.62427239, -0.62016689, -0.61829528, -0.61916356]),\n",
       " 'split2_train_score': array([-0.48574145, -0.47138145, -0.4605389 , -0.44930598, -0.44544563,\n",
       "        -0.44475113, -0.47840876, -0.46325147, -0.45315807, -0.44893715,\n",
       "        -0.44371886, -0.44170528, -0.47462746, -0.46342953, -0.45065448,\n",
       "        -0.44359048, -0.43788561, -0.43731352, -0.47068216, -0.45626704,\n",
       "        -0.44384161, -0.43725187, -0.43481241, -0.4308642 ]),\n",
       " 'split3_test_score': array([-0.64408785, -0.64191271, -0.63866389, -0.64006554, -0.63970761,\n",
       "        -0.63805132, -0.64678719, -0.63655772, -0.63908353, -0.63442258,\n",
       "        -0.63761723, -0.63620413, -0.64613327, -0.64843362, -0.63926272,\n",
       "        -0.63883942, -0.63889019, -0.63704535, -0.63807267, -0.64220478,\n",
       "        -0.64113449, -0.6417912 , -0.63820635, -0.64154581]),\n",
       " 'split3_train_score': array([-0.48443163, -0.46835003, -0.45671224, -0.44987496, -0.44495005,\n",
       "        -0.43822927, -0.4725791 , -0.45990083, -0.45247712, -0.44713649,\n",
       "        -0.44214639, -0.43737337, -0.4697877 , -0.45340116, -0.4475395 ,\n",
       "        -0.44067567, -0.43372977, -0.43105819, -0.46912863, -0.4492272 ,\n",
       "        -0.44156701, -0.43566258, -0.42995729, -0.42583206]),\n",
       " 'split4_test_score': array([-0.62201519, -0.61571142, -0.6139801 , -0.61358836, -0.61082189,\n",
       "        -0.60663471, -0.62129853, -0.61488393, -0.61531313, -0.61428576,\n",
       "        -0.60939926, -0.61248546, -0.61364991, -0.61146369, -0.60879916,\n",
       "        -0.61156148, -0.61178736, -0.60860017, -0.61816452, -0.61390609,\n",
       "        -0.61424653, -0.61046304, -0.60977956, -0.61020956]),\n",
       " 'split4_train_score': array([-0.48752193, -0.47292227, -0.46350358, -0.45672698, -0.44763361,\n",
       "        -0.44823801, -0.48274783, -0.46796116, -0.45839961, -0.45304279,\n",
       "        -0.44506746, -0.44599438, -0.47936585, -0.46202348, -0.45419591,\n",
       "        -0.445715  , -0.44228119, -0.43793972, -0.47810933, -0.45853236,\n",
       "        -0.4490411 , -0.44507195, -0.43677387, -0.43701171]),\n",
       " 'std_fit_time': array([ 0.72008059,  0.31825143,  0.33139655,  0.13653396,  0.08330076,\n",
       "         0.34436438,  0.31438746,  0.06564133,  0.06037149,  0.12875474,\n",
       "         0.08487432,  0.0894056 ,  0.21581533,  1.10599575,  1.39819078,\n",
       "         0.20965362,  0.31023859,  0.34673554,  0.32248804,  0.0608032 ,\n",
       "         0.03764272,  0.15688528,  0.15633678,  0.77877757]),\n",
       " 'std_score_time': array([ 0.00286704,  0.00719348,  0.00250896,  0.0014431 ,  0.00230178,\n",
       "         0.00498448,  0.0033847 ,  0.00214976,  0.00517508,  0.0019292 ,\n",
       "         0.00211119,  0.00185423,  0.00218306,  0.02447867,  0.00916507,\n",
       "         0.0264017 ,  0.00090876,  0.00105466,  0.00419322,  0.00336522,\n",
       "         0.00227014,  0.00121319,  0.00181219,  0.01054629]),\n",
       " 'std_test_score': array([ 0.00902746,  0.00915261,  0.00859371,  0.01048244,  0.01086673,\n",
       "         0.01030866,  0.00953563,  0.00746803,  0.00922567,  0.00819128,\n",
       "         0.00982782,  0.00885417,  0.01102376,  0.01284836,  0.01021276,\n",
       "         0.00935146,  0.00998827,  0.01015699,  0.00766386,  0.00959323,\n",
       "         0.0090135 ,  0.01074977,  0.00971667,  0.01078104]),\n",
       " 'std_train_score': array([ 0.00166972,  0.00206846,  0.00227731,  0.00288508,  0.00167752,\n",
       "         0.0032719 ,  0.00371632,  0.00259407,  0.00211424,  0.00196481,\n",
       "         0.00138092,  0.00297529,  0.00337722,  0.00361045,  0.00218957,\n",
       "         0.00298515,  0.00328108,  0.00264771,  0.0031154 ,  0.00340148,\n",
       "         0.00275738,  0.00360897,  0.00271233,  0.00370764])}"
      ]
     },
     "execution_count": 51,
     "metadata": {},
     "output_type": "execute_result"
    }
   ],
   "source": [
    "gsearch3_1.cv_results_"
   ]
  },
  {
   "cell_type": "code",
   "execution_count": 52,
   "metadata": {},
   "outputs": [
    {
     "name": "stdout",
     "output_type": "stream",
     "text": [
      "Best: -0.617174 using {'subsample': 0.8, 'colsample_bytree': 0.8}\n"
     ]
    },
    {
     "data": {
      "image/png": "[encoded data removed]",
      "text/plain": [
       "<matplotlib.figure.Figure at 0x113105390>"
      ]
     },
     "metadata": {},
     "output_type": "display_data"
    }
   ],
   "source": [
    "# summarize results\n",
    "print(\"Best: %f using %s\" % (gsearch3_1.best_score_, gsearch3_1.best_params_))\n",
    "test_means = gsearch3_1.cv_results_[ 'mean_test_score' ]\n",
    "test_stds = gsearch3_1.cv_results_[ 'std_test_score' ]\n",
    "train_means = gsearch3_1.cv_results_[ 'mean_train_score' ]\n",
    "train_stds = gsearch3_1.cv_results_[ 'std_train_score' ]\n",
    "\n",
    "pd.DataFrame(gsearch3_1.cv_results_).to_csv('my_preds_subsampleh_colsample_bytree_1.csv')\n",
    "\n",
    "# plot results\n",
    "test_scores = np.array(test_means).reshape(len(colsample_bytree), len(subsample))\n",
    "train_scores = np.array(train_means).reshape(len(colsample_bytree), len(subsample))\n",
    "\n",
    "for i, value in enumerate(colsample_bytree):\n",
    "    plt.plot(subsample, -test_scores[i], label= 'test_colsample_bytree:'   + str(value))\n",
    "#for i, value in enumerate(min_child_weight):\n",
    "#    pyplot.plot(max_depth, train_scores[i], label= 'train_min_child_weight:'   + str(value))\n",
    "    \n",
    "plt.legend()\n",
    "plt.xlabel( 'subsample' )                                                                                                      \n",
    "plt.ylabel( 'Log Loss' )\n",
    "plt.savefig( 'subsample_vs_colsample_bytree1.png' )"
   ]
  },
  {
   "cell_type": "markdown",
   "metadata": {},
   "source": [
    "怎么越调越低了- -\n",
    "\n",
    "## 第五步 调整正则化参数：reg_alpha 和reg_lambda"
   ]
  },
  {
   "cell_type": "code",
   "execution_count": 53,
   "metadata": {},
   "outputs": [
    {
     "data": {
      "text/plain": [
       "{'reg_alpha': [1.5, 2], 'reg_lambda': [0.5, 1, 2]}"
      ]
     },
     "execution_count": 53,
     "metadata": {},
     "output_type": "execute_result"
    }
   ],
   "source": [
    "#reg_alpha = [1e-3, 1e-2, 0.05, 0.1]    #default = 0\n",
    "#reg_lambda = [1e-3, 1e-2, 0.05, 0.1]   #default = 1\n",
    "\n",
    "reg_alpha = [ 1.5, 2]    #default = 0, 测试0.1,1，1.5，2\n",
    "reg_lambda = [0.5, 1, 2]      #default = 1，测试0.1， 0.5， 1，2\n",
    "\n",
    "param_test5_1 = dict(reg_alpha=reg_alpha, reg_lambda=reg_lambda)\n",
    "param_test5_1\n",
    "\n"
   ]
  },
  {
   "cell_type": "code",
   "execution_count": 54,
   "metadata": {},
   "outputs": [
    {
     "name": "stderr",
     "output_type": "stream",
     "text": [
      "/Users/Yubo/anaconda3/envs/py27/lib/python2.7/site-packages/sklearn/model_selection/_search.py:667: DeprecationWarning: The grid_scores_ attribute was deprecated in version 0.18 in favor of the more elaborate cv_results_ attribute. The grid_scores_ attribute will not be available from 0.20\n",
      "  DeprecationWarning)\n"
     ]
    },
    {
     "data": {
      "text/plain": [
       "([mean: -0.61830, std: 0.00993, params: {'reg_alpha': 1.5, 'reg_lambda': 0.5},\n",
       "  mean: -0.61861, std: 0.01057, params: {'reg_alpha': 1.5, 'reg_lambda': 1},\n",
       "  mean: -0.61918, std: 0.01035, params: {'reg_alpha': 1.5, 'reg_lambda': 2},\n",
       "  mean: -0.61869, std: 0.00989, params: {'reg_alpha': 2, 'reg_lambda': 0.5},\n",
       "  mean: -0.61925, std: 0.00962, params: {'reg_alpha': 2, 'reg_lambda': 1},\n",
       "  mean: -0.61882, std: 0.01074, params: {'reg_alpha': 2, 'reg_lambda': 2}],\n",
       " {'reg_alpha': 1.5, 'reg_lambda': 0.5},\n",
       " -0.61829663433644455)"
      ]
     },
     "execution_count": 54,
     "metadata": {},
     "output_type": "execute_result"
    }
   ],
   "source": [
    "xgb5_1 = XGBClassifier(\n",
    "        learning_rate =0.1,\n",
    "        n_estimators=106,  #第二轮参数调整得到的n_estimators最优值\n",
    "        max_depth=6,\n",
    "        min_child_weight=6,\n",
    "        gamma=0,\n",
    "        subsample=0.8,\n",
    "        colsample_bytree=0.8,\n",
    "        colsample_bylevel = 0.7,\n",
    "        objective= 'multi:softprob',\n",
    "        seed=3)\n",
    "\n",
    "\n",
    "gsearch5_1 = GridSearchCV(xgb5_1, param_grid = param_test5_1, scoring='neg_log_loss',n_jobs=-1, cv=kfold)\n",
    "gsearch5_1.fit(X_train , y_train)\n",
    "\n",
    "gsearch5_1.grid_scores_, gsearch5_1.best_params_,     gsearch5_1.best_score_"
   ]
  },
  {
   "cell_type": "code",
   "execution_count": 55,
   "metadata": {},
   "outputs": [
    {
     "data": {
      "text/plain": [
       "{'mean_fit_time': array([ 20.12935028,  19.89325128,  19.92527461,  19.90518579,\n",
       "         19.8822525 ,  16.92397175]),\n",
       " 'mean_score_time': array([ 0.08821359,  0.08598223,  0.08885431,  0.08353925,  0.08335509,\n",
       "         0.07835526]),\n",
       " 'mean_test_score': array([-0.61829663, -0.61860876, -0.61918026, -0.61869174, -0.61925132,\n",
       "        -0.61881626]),\n",
       " 'mean_train_score': array([-0.44407397, -0.44654429, -0.45149558, -0.44996169, -0.45236472,\n",
       "        -0.45665784]),\n",
       " 'param_reg_alpha': masked_array(data = [1.5 1.5 1.5 2 2 2],\n",
       "              mask = [False False False False False False],\n",
       "        fill_value = ?),\n",
       " 'param_reg_lambda': masked_array(data = [0.5 1 2 0.5 1 2],\n",
       "              mask = [False False False False False False],\n",
       "        fill_value = ?),\n",
       " 'params': ({'reg_alpha': 1.5, 'reg_lambda': 0.5},\n",
       "  {'reg_alpha': 1.5, 'reg_lambda': 1},\n",
       "  {'reg_alpha': 1.5, 'reg_lambda': 2},\n",
       "  {'reg_alpha': 2, 'reg_lambda': 0.5},\n",
       "  {'reg_alpha': 2, 'reg_lambda': 1},\n",
       "  {'reg_alpha': 2, 'reg_lambda': 2}),\n",
       " 'rank_test_score': array([1, 2, 5, 3, 6, 4], dtype=int32),\n",
       " 'split0_test_score': array([-0.61707987, -0.61624492, -0.61668637, -0.61546391, -0.61546989,\n",
       "        -0.61528653]),\n",
       " 'split0_train_score': array([-0.44256641, -0.44579561, -0.45077247, -0.45011157, -0.45181782,\n",
       "        -0.45446813]),\n",
       " 'split1_test_score': array([-0.61502017, -0.614979  , -0.61570857, -0.61513846, -0.61502068,\n",
       "        -0.61199925]),\n",
       " 'split1_train_score': array([-0.44567749, -0.44894548, -0.45249458, -0.44982583, -0.45275466,\n",
       "        -0.45805093]),\n",
       " 'split2_test_score': array([-0.61448853, -0.61359727, -0.61514055, -0.6159897 , -0.61548103,\n",
       "        -0.6178319 ]),\n",
       " 'split2_train_score': array([-0.44299168, -0.44665493, -0.4523972 , -0.45059512, -0.4543158 ,\n",
       "        -0.45665798]),\n",
       " 'split3_test_score': array([-0.6371356 , -0.63918707, -0.63919224, -0.63781984, -0.63830555,\n",
       "        -0.63952423]),\n",
       " 'split3_train_score': array([-0.44178032, -0.44346191, -0.44783192, -0.44631363, -0.44962264,\n",
       "        -0.45460689]),\n",
       " 'split4_test_score': array([-0.6077507 , -0.60902899, -0.60916652, -0.6090405 , -0.61197617,\n",
       "        -0.60943518]),\n",
       " 'split4_train_score': array([-0.44735396, -0.44786352, -0.45398175, -0.4529623 , -0.45331271,\n",
       "        -0.45950526]),\n",
       " 'std_fit_time': array([ 0.13415783,  0.09978422,  0.10072686,  0.10480827,  0.09529422,\n",
       "         3.71941561]),\n",
       " 'std_score_time': array([ 0.00563107,  0.0059226 ,  0.00786475,  0.00522631,  0.00393636,\n",
       "         0.01217803]),\n",
       " 'std_test_score': array([ 0.00992709,  0.01057388,  0.01034654,  0.00989237,  0.00961631,\n",
       "         0.01073933]),\n",
       " 'std_train_score': array([ 0.00209926,  0.0018751 ,  0.00209463,  0.00213327,  0.0015922 ,\n",
       "         0.00195191])}"
      ]
     },
     "execution_count": 55,
     "metadata": {},
     "output_type": "execute_result"
    }
   ],
   "source": [
    "gsearch5_1.cv_results_"
   ]
  },
  {
   "cell_type": "code",
   "execution_count": 57,
   "metadata": {},
   "outputs": [
    {
     "name": "stdout",
     "output_type": "stream",
     "text": [
      "Best: -0.618297 using {'reg_alpha': 1.5, 'reg_lambda': 0.5}\n"
     ]
    },
    {
     "data": {
      "image/png": "[encoded data removed]",
      "text/plain": [
       "<matplotlib.figure.Figure at 0x1137df390>"
      ]
     },
     "metadata": {},
     "output_type": "display_data"
    }
   ],
   "source": [
    "# summarize results\n",
    "print(\"Best: %f using %s\" % (gsearch5_1.best_score_, gsearch5_1.best_params_))\n",
    "test_means = gsearch5_1.cv_results_[ 'mean_test_score' ]\n",
    "test_stds = gsearch5_1.cv_results_[ 'std_test_score' ]\n",
    "train_means = gsearch5_1.cv_results_[ 'mean_train_score' ]\n",
    "train_stds = gsearch5_1.cv_results_[ 'std_train_score' ]\n",
    "\n",
    "pd.DataFrame(gsearch5_1.cv_results_).to_csv('my_preds_reg_alpha_reg_lambda_1.csv')\n",
    "\n",
    "# plot results\n",
    "test_scores = np.array(test_means).reshape(len(reg_alpha), len(reg_lambda))\n",
    "train_scores = np.array(train_means).reshape(len(reg_alpha), len(reg_lambda))\n",
    "\n",
    "#log_reg_alpha = [0,0,0,0]\n",
    "#for index in range(len(reg_alpha)):\n",
    "#   log_reg_alpha[index] = math.log10(reg_alpha[index])\n",
    "    \n",
    "for i, value in enumerate(reg_alpha):\n",
    "    plt.plot(reg_lambda, -test_scores[i], label= 'reg_alpha:'   + str(value))\n",
    "#for i, value in enumerate(min_child_weight):\n",
    "#    pyplot.plot(max_depth, train_scores[i], label= 'train_min_child_weight:'   + str(value))\n",
    "    \n",
    "plt.legend()\n",
    "plt.xlabel( 'reg_alpha' )                                                                                                      \n",
    "plt.ylabel( '-Log Loss' )\n",
    "plt.savefig( 'reg_alpha_vs_reg_lambda1.png' )"
   ]
  },
  {
   "cell_type": "code",
   "execution_count": null,
   "metadata": {
    "collapsed": true
   },
   "outputs": [],
   "source": []
  }
 ],
 "metadata": {
  "kernelspec": {
   "display_name": "Python 2",
   "language": "python",
   "name": "python2"
  },
  "language_info": {
   "codemirror_mode": {
    "name": "ipython",
    "version": 2
   },
   "file_extension": ".py",
   "mimetype": "text/x-python",
   "name": "python",
   "nbconvert_exporter": "python",
   "pygments_lexer": "ipython2",
   "version": "2.7.13"
  }
 },
 "nbformat": 4,
 "nbformat_minor": 2
}
